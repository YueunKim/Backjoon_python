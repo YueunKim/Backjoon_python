{
 "cells": [
  {
   "cell_type": "markdown",
   "metadata": {},
   "source": [
    "# #11. 백준 [10818] 최소, 최대 (Python)"
   ]
  },
  {
   "cell_type": "code",
   "execution_count": 2,
   "metadata": {},
   "outputs": [
    {
     "name": "stdout",
     "output_type": "stream",
     "text": [
      "5\n",
      "2 5 7 4 1\n",
      "1 7\n"
     ]
    }
   ],
   "source": [
    "# 풀이1\n",
    "number = int(input())\n",
    "num_list = list(map(int, input().split()))\n",
    "\n",
    "max_num = num_list[0]\n",
    "min_num = num_list[0]\n",
    "\n",
    "for i in num_list:    \n",
    "    if i > max_num:\n",
    "        max_num = i\n",
    "    if i < min_num:\n",
    "        min_num = i\n",
    "\n",
    "print(min_num, max_num)"
   ]
  },
  {
   "cell_type": "code",
   "execution_count": 8,
   "metadata": {},
   "outputs": [
    {
     "name": "stdout",
     "output_type": "stream",
     "text": [
      "4 2 2 1 6\n",
      "1 6\n"
     ]
    }
   ],
   "source": [
    "# 풀이2\n",
    "number = int(input())\n",
    "num_list = list(map(int, input().split()))\n",
    "print('{} {}'.format(min(num_list), max(num_list)))"
   ]
  },
  {
   "cell_type": "markdown",
   "metadata": {},
   "source": [
    "# #12. 백준 [2577] 숫자의 개수 (Python)"
   ]
  },
  {
   "cell_type": "code",
   "execution_count": 15,
   "metadata": {},
   "outputs": [
    {
     "name": "stdout",
     "output_type": "stream",
     "text": [
      "150\n",
      "266\n",
      "427\n",
      "3\n",
      "1\n",
      "0\n",
      "2\n",
      "0\n",
      "0\n",
      "0\n",
      "2\n",
      "0\n",
      "0\n"
     ]
    }
   ],
   "source": [
    "num1 = int(input())\n",
    "num2 = int(input())\n",
    "num3 = int(input())\n",
    "\n",
    "mul = str(num1 * num2 * num3)\n",
    "\n",
    "for i in range(10):\n",
    "    print(mul.count(str(i)))"
   ]
  },
  {
   "cell_type": "markdown",
   "metadata": {},
   "source": [
    "# #13. 백준 [3052] 나머지 (Python)"
   ]
  },
  {
   "cell_type": "code",
   "execution_count": 23,
   "metadata": {},
   "outputs": [
    {
     "name": "stdout",
     "output_type": "stream",
     "text": [
      "1\n",
      "2\n",
      "3\n",
      "4\n",
      "5\n",
      "6\n",
      "7\n",
      "8\n",
      "9\n",
      "9\n",
      "9\n"
     ]
    }
   ],
   "source": [
    "remainder = []\n",
    "\n",
    "for i in range(10):\n",
    "    a = int(input())\n",
    "    remainder.append(a % 42)\n",
    "    \n",
    "remainder_set = set(remainder)\n",
    "print(len(remainder_set))"
   ]
  },
  {
   "cell_type": "markdown",
   "metadata": {},
   "source": [
    "# #14. 백준 [8958] OX퀴즈 (Python)"
   ]
  },
  {
   "cell_type": "code",
   "execution_count": 8,
   "metadata": {},
   "outputs": [
    {
     "name": "stdout",
     "output_type": "stream",
     "text": [
      "3\n",
      "OOXXOXXOOO\n",
      "10\n",
      "OXOX\n",
      "2\n",
      "OXOOXO\n",
      "5\n"
     ]
    }
   ],
   "source": [
    "num = int(input())\n",
    "\n",
    "for i in range(num):\n",
    "    quiz = list(input())\n",
    "    score = 0\n",
    "    score_sum = 0\n",
    "    for j in quiz:\n",
    "        if j == 'O':\n",
    "            score += 1\n",
    "            score_sum += score\n",
    "        else:\n",
    "            score = 0\n",
    "    print(score_sum)"
   ]
  },
  {
   "cell_type": "markdown",
   "metadata": {},
   "source": [
    "# #15. 백준 [4344] 평균은 넘겠지 (Python)"
   ]
  },
  {
   "cell_type": "code",
   "execution_count": 36,
   "metadata": {},
   "outputs": [
    {
     "name": "stdout",
     "output_type": "stream",
     "text": [
      "1\n",
      "9 100 99 98 97 96 95 94 93 91\n",
      "55.556% \n"
     ]
    }
   ],
   "source": [
    "num = int(input())\n",
    "\n",
    "for i in range(num):\n",
    "    score = list(map(int, input().split()))\n",
    "    mean = sum(score[1:])/score[0] # score[0]: 학생수, score[1:] 점수\n",
    "    above_mean = []\n",
    "    \n",
    "    for j in score[1:]:\n",
    "        if j > mean:\n",
    "            above_mean.append(j)\n",
    "            \n",
    "    print(\"%.3f%% \"%((len(above_mean)/score[0])*100))"
   ]
  },
  {
   "cell_type": "code",
   "execution_count": 35,
   "metadata": {},
   "outputs": [
    {
     "name": "stdout",
     "output_type": "stream",
     "text": [
      "1\n",
      "9 100 99 98 97 96 95 94 93 91\n",
      "55.556%\n"
     ]
    }
   ],
   "source": [
    "num = int(input())\n",
    "\n",
    "for i in range(num):\n",
    "    score = list(map(int, input().split()))\n",
    "    mean = sum(score[1:])/score[0] # score[0]: 학생수, score[1:] 점수\n",
    "    above_mean = []\n",
    "    \n",
    "    for j in score[1:]:\n",
    "        if j > mean:\n",
    "            above_mean.append(j)\n",
    "            \n",
    "    rate = len(above_mean)/score[0]*100\n",
    "    print(f'{rate:.3f}%')"
   ]
  },
  {
   "cell_type": "code",
   "execution_count": null,
   "metadata": {},
   "outputs": [],
   "source": []
  }
 ],
 "metadata": {
  "kernelspec": {
   "display_name": "Python 3",
   "language": "python",
   "name": "python3"
  },
  "language_info": {
   "codemirror_mode": {
    "name": "ipython",
    "version": 3
   },
   "file_extension": ".py",
   "mimetype": "text/x-python",
   "name": "python",
   "nbconvert_exporter": "python",
   "pygments_lexer": "ipython3",
   "version": "3.8.3"
  }
 },
 "nbformat": 4,
 "nbformat_minor": 4
}
