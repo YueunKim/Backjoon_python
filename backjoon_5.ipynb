{
 "cells": [
  {
   "cell_type": "markdown",
   "metadata": {},
   "source": [
    "# #21. 백준 [1316] 그룹 단어 체커 (Python)"
   ]
  },
  {
   "cell_type": "code",
   "execution_count": 16,
   "metadata": {},
   "outputs": [
    {
     "name": "stdout",
     "output_type": "stream",
     "text": [
      "3\n",
      "aabbb\n",
      "1= 0 j= 0\n",
      "1= 0 j= 2\n",
      "1= 0 j= 3\n",
      "happy\n",
      "1= 1 j= 2\n",
      "abbbba\n",
      "2= 2 j= 0\n",
      "2\n"
     ]
    }
   ],
   "source": [
    "num=int(input())\n",
    "count=0\n",
    "\n",
    "for i in range(num):\n",
    "    word = input()\n",
    "    \n",
    "    for j in range(len(word)):\n",
    "        \n",
    "        if j!=len(word)-1: \n",
    "            \n",
    "            if word[j] == word[j+1]:  #다음 글자와 일치하면 패스\n",
    "                pass      \n",
    "            elif word[j] in word[j+1:]: #다음 글자와 일치하지 않고 다음 글자부터 끝까지 중에 같은 글자가 나오면 멈춤\n",
    "                break\n",
    "                \n",
    "        else:\n",
    "            count+=1\n",
    "print(count)"
   ]
  },
  {
   "cell_type": "markdown",
   "metadata": {},
   "source": [
    "# #22. 백준 [2292] 벌집 (Python)"
   ]
  },
  {
   "cell_type": "code",
   "execution_count": 15,
   "metadata": {},
   "outputs": [
    {
     "name": "stdout",
     "output_type": "stream",
     "text": [
      "40\n",
      "5\n"
     ]
    }
   ],
   "source": [
    "num = int(input())\n",
    "count = 1\n",
    "\n",
    "if num == 1:\n",
    "    print(1)\n",
    "else:\n",
    "    while True:\n",
    "        num -= (6 * count)\n",
    "        count += 1\n",
    "        if num == 1 or num < 1:\n",
    "            break\n",
    "\n",
    "    print(count)"
   ]
  }
 ],
 "metadata": {
  "kernelspec": {
   "display_name": "Python 3",
   "language": "python",
   "name": "python3"
  },
  "language_info": {
   "codemirror_mode": {
    "name": "ipython",
    "version": 3
   },
   "file_extension": ".py",
   "mimetype": "text/x-python",
   "name": "python",
   "nbconvert_exporter": "python",
   "pygments_lexer": "ipython3",
   "version": "3.7.6"
  }
 },
 "nbformat": 4,
 "nbformat_minor": 4
}
