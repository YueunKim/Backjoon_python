{
 "cells": [
  {
   "cell_type": "markdown",
   "metadata": {},
   "source": [
    "# #21. 백준 [1316] 그룹 단어 체커 (Python)"
   ]
  },
  {
   "cell_type": "code",
   "execution_count": 44,
   "metadata": {},
   "outputs": [
    {
     "name": "stdout",
     "output_type": "stream",
     "text": [
      "1\n",
      "abbba\n",
      "j= a\n",
      "w= abbba\n",
      "num= 0\n",
      "num= -1\n",
      "num= -2\n",
      "j= b\n",
      "w= bbb\n",
      "j= b\n",
      "w= bbb\n",
      "j= b\n",
      "w= bbb\n",
      "j= a\n",
      "w= abbba\n",
      "num= -3\n",
      "num= -4\n",
      "num= -5\n",
      "-5\n"
     ]
    }
   ],
   "source": [
    "num = int(input())\n",
    "count = 0\n",
    "\n",
    "for i in range(num):\n",
    "    word = input()\n",
    "    \n",
    "    for j in word:\n",
    "        first = word.find(j)\n",
    "        last = word.rfind(j)\n",
    "        print('j=',j)\n",
    "        \n",
    "        if first != last:\n",
    "            w = word[first:last+1]\n",
    "            print('w=',w)\n",
    "            for k in w:\n",
    "                if j != k:\n",
    "                    num -= 1\n",
    "                    pass\n",
    "#                     count += 1\n",
    "                    print('num=',num)\n",
    "\n",
    "#         if count == 1:\n",
    "#             pass\n",
    "\n",
    "print(num)"
   ]
  },
  {
   "cell_type": "code",
   "execution_count": 15,
   "metadata": {},
   "outputs": [
    {
     "name": "stdout",
     "output_type": "stream",
     "text": [
      "h\n",
      "a\n",
      "p\n",
      "p\n",
      "y\n"
     ]
    }
   ],
   "source": [
    "word = 'happy'\n",
    "for i in word:\n",
    "    print(i)"
   ]
  },
  {
   "cell_type": "code",
   "execution_count": 22,
   "metadata": {},
   "outputs": [
    {
     "data": {
      "text/plain": [
       "'happy'"
      ]
     },
     "execution_count": 22,
     "metadata": {},
     "output_type": "execute_result"
    }
   ],
   "source": [
    "word"
   ]
  },
  {
   "cell_type": "code",
   "execution_count": 35,
   "metadata": {},
   "outputs": [],
   "source": [
    "a = list(word[1:4])"
   ]
  },
  {
   "cell_type": "code",
   "execution_count": 36,
   "metadata": {},
   "outputs": [
    {
     "data": {
      "text/plain": [
       "['a', 'p', 'p']"
      ]
     },
     "execution_count": 36,
     "metadata": {},
     "output_type": "execute_result"
    }
   ],
   "source": [
    "a"
   ]
  },
  {
   "cell_type": "code",
   "execution_count": null,
   "metadata": {},
   "outputs": [],
   "source": []
  }
 ],
 "metadata": {
  "kernelspec": {
   "display_name": "Python 3",
   "language": "python",
   "name": "python3"
  },
  "language_info": {
   "codemirror_mode": {
    "name": "ipython",
    "version": 3
   },
   "file_extension": ".py",
   "mimetype": "text/x-python",
   "name": "python",
   "nbconvert_exporter": "python",
   "pygments_lexer": "ipython3",
   "version": "3.8.3"
  }
 },
 "nbformat": 4,
 "nbformat_minor": 4
}
