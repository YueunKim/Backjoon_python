{
 "cells": [
  {
   "cell_type": "markdown",
   "metadata": {},
   "source": [
    "# #11. 백준 [10818] 최소, 최대 (Python)"
   ]
  },
  {
   "cell_type": "code",
   "execution_count": 2,
   "metadata": {},
   "outputs": [
    {
     "name": "stdout",
     "output_type": "stream",
     "text": [
      "5\n",
      "2 5 7 4 1\n",
      "1 7\n"
     ]
    }
   ],
   "source": [
    "# 풀이1\n",
    "number = int(input())\n",
    "num_list = list(map(int, input().split()))\n",
    "\n",
    "max_num = num_list[0]\n",
    "min_num = num_list[0]\n",
    "\n",
    "for i in num_list:    \n",
    "    if i > max_num:\n",
    "        max_num = i\n",
    "    if i < min_num:\n",
    "        min_num = i\n",
    "\n",
    "print(min_num, max_num)"
   ]
  },
  {
   "cell_type": "code",
   "execution_count": 8,
   "metadata": {},
   "outputs": [
    {
     "name": "stdout",
     "output_type": "stream",
     "text": [
      "4 2 2 1 6\n",
      "1 6\n"
     ]
    }
   ],
   "source": [
    "# 풀이2\n",
    "number = int(input())\n",
    "num_list = list(map(int, input().split()))\n",
    "print('{} {}'.format(min(num_list), max(num_list)))"
   ]
  },
  {
   "cell_type": "code",
   "execution_count": null,
   "metadata": {},
   "outputs": [],
   "source": []
  }
 ],
 "metadata": {
  "kernelspec": {
   "display_name": "Python 3",
   "language": "python",
   "name": "python3"
  },
  "language_info": {
   "codemirror_mode": {
    "name": "ipython",
    "version": 3
   },
   "file_extension": ".py",
   "mimetype": "text/x-python",
   "name": "python",
   "nbconvert_exporter": "python",
   "pygments_lexer": "ipython3",
   "version": "3.8.3"
  }
 },
 "nbformat": 4,
 "nbformat_minor": 4
}
