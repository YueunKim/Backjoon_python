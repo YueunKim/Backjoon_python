{
 "cells": [
  {
   "cell_type": "markdown",
   "metadata": {},
   "source": [
    "# #6. 백준 [11022] A + B - 8 (Python)"
   ]
  },
  {
   "cell_type": "code",
   "execution_count": 6,
   "metadata": {},
   "outputs": [
    {
     "name": "stdout",
     "output_type": "stream",
     "text": [
      "3\n",
      "2 4\n",
      "Case #1: 2 + 4 = 6\n",
      "4 7\n",
      "Case #2: 4 + 7 = 11\n",
      "5 3\n",
      "Case #3: 5 + 3 = 8\n"
     ]
    }
   ],
   "source": [
    "number = int(input())\n",
    "\n",
    "for i in range(number):\n",
    "    A,B = map(int,input().split())\n",
    "    C = A + B\n",
    "    print(\"Case #%d: %d + %d = %d\"%(i+1, A, B, C ))"
   ]
  },
  {
   "cell_type": "markdown",
   "metadata": {},
   "source": [
    "# #7. 백준 [2438] 별 찍기-1 (Python)"
   ]
  },
  {
   "cell_type": "code",
   "execution_count": 3,
   "metadata": {},
   "outputs": [
    {
     "name": "stdout",
     "output_type": "stream",
     "text": [
      "5\n",
      "*\n",
      "**\n",
      "***\n",
      "****\n",
      "*****\n"
     ]
    }
   ],
   "source": [
    "num = int(input())\n",
    "\n",
    "for i in range(1, num+1):\n",
    "    print(\"*\" * i)"
   ]
  },
  {
   "cell_type": "markdown",
   "metadata": {},
   "source": [
    "# #8. 백준 [2439] 별 찍기-2 (Python)"
   ]
  },
  {
   "cell_type": "code",
   "execution_count": 5,
   "metadata": {},
   "outputs": [
    {
     "name": "stdout",
     "output_type": "stream",
     "text": [
      "7\n",
      "      *\n",
      "     **\n",
      "    ***\n",
      "   ****\n",
      "  *****\n",
      " ******\n",
      "*******\n"
     ]
    }
   ],
   "source": [
    "# 풀이 1\n",
    "num = int(input())\n",
    "\n",
    "for i in range(1, num+1):\n",
    "    a = \"*\" * i\n",
    "    print(a.rjust(num))"
   ]
  },
  {
   "cell_type": "code",
   "execution_count": 3,
   "metadata": {},
   "outputs": [
    {
     "name": "stdout",
     "output_type": "stream",
     "text": [
      "5\n",
      "    *\n",
      "   **\n",
      "  ***\n",
      " ****\n",
      "*****\n"
     ]
    }
   ],
   "source": [
    "# 풀이 2\n",
    "num = int(input())\n",
    "\n",
    "for i in range(1,num+1):\n",
    "    print(\" \" * (num-i) + \"*\" * i)"
   ]
  },
  {
   "cell_type": "markdown",
   "metadata": {},
   "source": [
    "# #9. 백준 [10952] A + B - 5 (Python)"
   ]
  },
  {
   "cell_type": "code",
   "execution_count": 4,
   "metadata": {},
   "outputs": [
    {
     "name": "stdout",
     "output_type": "stream",
     "text": [
      "4 5\n",
      "9\n",
      "6 7\n",
      "13\n",
      "0 0\n"
     ]
    }
   ],
   "source": [
    "while True:\n",
    "    num1, num2 = map(int, input().split())\n",
    "    if num1 == 0 and num2 == 0:\n",
    "        break\n",
    "    print(num1+num2)"
   ]
  },
  {
   "cell_type": "markdown",
   "metadata": {},
   "source": [
    "# #10. 백준 [1110] 더하기 사이클 (Python)"
   ]
  },
  {
   "cell_type": "code",
   "execution_count": 71,
   "metadata": {},
   "outputs": [
    {
     "name": "stdout",
     "output_type": "stream",
     "text": [
      "26\n",
      "4\n"
     ]
    }
   ],
   "source": [
    "first = num = input()\n",
    "cycle_num = 0\n",
    "\n",
    "if len(num) == 1:\n",
    "    num = '0' + num\n",
    "\n",
    "while True:\n",
    "    num1 = str(int(num[0]) + int(num[1]))\n",
    "    if len(num1) == 1:\n",
    "        num1 = '0' + num1\n",
    "    num2 = num[1] + num1[1]\n",
    "    cycle_num += 1\n",
    "    num = num2\n",
    "    if int(num) == int(first):\n",
    "        break\n",
    "        \n",
    "print(cycle_num)"
   ]
  },
  {
   "cell_type": "code",
   "execution_count": 73,
   "metadata": {},
   "outputs": [
    {
     "name": "stdout",
     "output_type": "stream",
     "text": [
      "55\n",
      "3\n"
     ]
    }
   ],
   "source": [
    "first = num = int(input())\n",
    "cycle_num = 0\n",
    "\n",
    "while True:\n",
    "    ten = num // 10\n",
    "    one = num % 10\n",
    "    num1 = ten + one\n",
    "    cycle_num += 1\n",
    "    num = int(str(num % 10) + str(num1 % 10))\n",
    "    if num == first:\n",
    "        break\n",
    "        \n",
    "print(cycle_num)"
   ]
  },
  {
   "cell_type": "code",
   "execution_count": null,
   "metadata": {},
   "outputs": [],
   "source": []
  }
 ],
 "metadata": {
  "kernelspec": {
   "display_name": "Python 3",
   "language": "python",
   "name": "python3"
  },
  "language_info": {
   "codemirror_mode": {
    "name": "ipython",
    "version": 3
   },
   "file_extension": ".py",
   "mimetype": "text/x-python",
   "name": "python",
   "nbconvert_exporter": "python",
   "pygments_lexer": "ipython3",
   "version": "3.8.3"
  }
 },
 "nbformat": 4,
 "nbformat_minor": 4
}
